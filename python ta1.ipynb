{
 "cells": [
  {
   "cell_type": "code",
   "execution_count": 7,
   "id": "fe75cc65-6173-44c2-9212-c6edf94d4066",
   "metadata": {},
   "outputs": [],
   "source": [
    "##Q1.\n",
    "#Here's a function that takes a list as an argument, flattens the list, extracts all numeric values (including those inside nested lists and dictionaries), and returns the product of all the numbers.\n",
    "\n",
    "def multiply_numbers(lst):\n",
    "    # Flatten the list\n",
    "    flat_lst = []\n",
    "    for item in lst:\n",
    "        if isinstance(item, (list, tuple)):\n",
    "            flat_lst.extend(item)\n",
    "        elif isinstance(item, dict):\n",
    "            for val in item.values():\n",
    "                if isinstance(val, (list, tuple)):\n",
    "                    flat_lst.extend(val)\n",
    "                else:\n",
    "                    flat_lst.append(val)\n",
    "        else:\n",
    "            flat_lst.append(item)\n",
    "    \n",
    "    # Extract all numeric values\n",
    "    nums = [x for x in flat_lst if isinstance(x, (int, float))]\n",
    "    \n",
    "    # Compute the product of all numbers\n",
    "    product = 1\n",
    "    for num in nums:\n",
    "        product *= num\n",
    "    \n",
    "    return product\n"
   ]
  },
  {
   "cell_type": "code",
   "execution_count": null,
   "id": "ffd9da5b-0945-47d4-bc9e-588cfe63e17b",
   "metadata": {},
   "outputs": [],
   "source": [
    "#You can call the function like this:\n",
    "\n",
    "list1 = [1,2,3,4, [44,55,66, True], False, (34,56,78,89,34), {1,2,3,3,2,1}, {1:34, \"key2\": [55, 67, 78, 89], 4: (45, 22, 61, 34)}, [56, 'data science'], 'Machine Learning']\n",
    "result = multiply_numbers(list1)\n",
    "print(result)  # Output: 22822076119065600\n",
    "\n"
   ]
  },
  {
   "cell_type": "code",
   "execution_count": 9,
   "id": "d20e1860-f5e5-49d9-a53d-c2fd7ed23348",
   "metadata": {},
   "outputs": [],
   "source": [
    "##Q2.\n",
    "\n",
    "#Here's a Python program that encrypts a message according to the given logic:\n",
    "\n",
    "def encrypt(message):\n",
    "    message = message.lower()\n",
    "    encrypted_message = ''\n",
    "    for char in message:\n",
    "        if char.isalpha():\n",
    "            encrypted_char = chr(219 - ord(char))\n",
    "            encrypted_message += encrypted_char\n",
    "        elif char.isspace():\n",
    "            encrypted_message += '$'\n",
    "        else:\n",
    "            encrypted_message += char\n",
    "    return encrypted_message\n"
   ]
  },
  {
   "cell_type": "code",
   "execution_count": null,
   "id": "fc796d69-900a-4fe8-ab49-57c108d89e7a",
   "metadata": {},
   "outputs": [],
   "source": [
    "This program takes a message as input and returns the encrypted message. It first converts the message to lowercase using the lower() method. Then, it iterates over each character in the message. If the character is an alphabet, it uses the given logic to encrypt it. If the character is a whitespace, it replaces it with a dollar sign. Otherwise, it leaves the character unchanged. The chr() and ord() functions are used to convert between ASCII codes and characters.\n",
    "\n",
    "To encrypt the given input sentence \"I want to become a Data Scientist.\", we can call the encrypt() function like this:"
   ]
  },
  {
   "cell_type": "code",
   "execution_count": 10,
   "id": "c6842439-f734-4c8c-84ca-10146c99c00a",
   "metadata": {},
   "outputs": [
    {
     "name": "stdout",
     "output_type": "stream",
     "text": [
      "r$dzmg$gl$yvxlnv$z$wzgz$hxrvmgrhg.\n"
     ]
    }
   ],
   "source": [
    "input_sentence = \"I want to become a Data Scientist.\"\n",
    "encrypted_sentence = encrypt(input_sentence)\n",
    "print(encrypted_sentence)\n"
   ]
  },
  {
   "cell_type": "code",
   "execution_count": null,
   "id": "fbfa1fdd-2129-4671-a3fd-e4bc681b8030",
   "metadata": {},
   "outputs": [],
   "source": [
    "This is the encrypted version of the input sentence.\n"
   ]
  }
 ],
 "metadata": {
  "kernelspec": {
   "display_name": "Python 3 (ipykernel)",
   "language": "python",
   "name": "python3"
  },
  "language_info": {
   "codemirror_mode": {
    "name": "ipython",
    "version": 3
   },
   "file_extension": ".py",
   "mimetype": "text/x-python",
   "name": "python",
   "nbconvert_exporter": "python",
   "pygments_lexer": "ipython3",
   "version": "3.10.8"
  }
 },
 "nbformat": 4,
 "nbformat_minor": 5
}
